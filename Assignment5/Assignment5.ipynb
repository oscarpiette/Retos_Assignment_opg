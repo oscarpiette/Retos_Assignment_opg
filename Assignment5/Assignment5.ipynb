{
 "cells": [
  {
   "cell_type": "markdown",
   "metadata": {},
   "source": [
    "# Assignment 5 answers:"
   ]
  },
  {
   "cell_type": "markdown",
   "metadata": {},
   "source": [
    "## Question 1: How many protein records are in UniProt? "
   ]
  },
  {
   "cell_type": "markdown",
   "metadata": {},
   "source": [
    "Source: https://www.uniprot.org/core/#http://purl.uniprot.org/core/"
   ]
  },
  {
   "cell_type": "code",
   "execution_count": null,
   "metadata": {},
   "outputs": [],
   "source": [
    "https://sparql.uniprot.org/sparql/"
   ]
  },
  {
   "cell_type": "code",
   "execution_count": 2,
   "metadata": {},
   "outputs": [
    {
     "data": {
      "text/html": [
       "<div class=\"krn-spql\"><div class=\"magic\">Endpoint set to: http://sparql.uniprot.org/sparql</div><div class=\"magic\">Return format: JSON</div></div>"
      ],
      "text/plain": [
       "Endpoint set to: http://sparql.uniprot.org/sparql\n",
       "Return format: JSON\n"
      ]
     },
     "metadata": {},
     "output_type": "display_data"
    },
    {
     "data": {
      "text/html": [
       "<div class=\"krn-spql\"><table><tr class=hdr><th>numberProteins</th></tr><tr class=odd><td class=val>360157660</td></tr></table><div class=\"tinfo\">Total: 1, Shown: 1</div></div>"
      ]
     },
     "metadata": {},
     "output_type": "display_data"
    }
   ],
   "source": [
    "%endpoint http://sparql.uniprot.org/sparql\n",
    "%format JSON\n",
    "\n",
    "PREFIX up: <http://purl.uniprot.org/core/>\n",
    "\n",
    "SELECT (count(?protein) as ?numberProteins)\n",
    "\n",
    "WHERE {  \n",
    "   ?protein a up:Protein .\n",
    "}"
   ]
  },
  {
   "cell_type": "markdown",
   "metadata": {},
   "source": [
    "## Question 2: How many Arabidopsis thaliana protein records are in UniProt? "
   ]
  },
  {
   "cell_type": "code",
   "execution_count": 3,
   "metadata": {},
   "outputs": [
    {
     "data": {
      "text/html": [
       "<div class=\"krn-spql\"><div class=\"magic\">Endpoint set to: http://sparql.uniprot.org/sparql</div><div class=\"magic\">Return format: JSON</div></div>"
      ],
      "text/plain": [
       "Endpoint set to: http://sparql.uniprot.org/sparql\n",
       "Return format: JSON\n"
      ]
     },
     "metadata": {},
     "output_type": "display_data"
    },
    {
     "data": {
      "text/html": [
       "<div class=\"krn-spql\"><table><tr class=hdr><th>numberProteins</th></tr><tr class=odd><td class=val>136782</td></tr></table><div class=\"tinfo\">Total: 1, Shown: 1</div></div>"
      ]
     },
     "metadata": {},
     "output_type": "display_data"
    }
   ],
   "source": [
    "%endpoint http://sparql.uniprot.org/sparql\n",
    "%format JSON\n",
    "\n",
    "PREFIX up: <http://purl.uniprot.org/core/>\n",
    "\n",
    "SELECT (count(?protein) as ?numberProteins)\n",
    "\n",
    "WHERE {\n",
    "    ?protein a up:Protein ;\n",
    "               up:organism ?taxon .\n",
    "    ?taxon up:scientificName \"Arabidopsis thaliana\"\n",
    "}"
   ]
  },
  {
   "cell_type": "markdown",
   "metadata": {},
   "source": [
    "## Question 3: retrieve pictures of Arabidopsis thaliana from UniProt?"
   ]
  },
  {
   "cell_type": "markdown",
   "metadata": {},
   "source": [
    "FOAF for images: http://xmlns.com/foaf/spec/"
   ]
  },
  {
   "cell_type": "code",
   "execution_count": 4,
   "metadata": {},
   "outputs": [
    {
     "data": {
      "text/html": [
       "<div class=\"krn-spql\"><div class=\"magic\">Endpoint set to: http://sparql.uniprot.org/sparql</div><div class=\"magic\">Return format: JSON</div></div>"
      ],
      "text/plain": [
       "Endpoint set to: http://sparql.uniprot.org/sparql\n",
       "Return format: JSON\n"
      ]
     },
     "metadata": {},
     "output_type": "display_data"
    },
    {
     "data": {
      "text/html": [
       "<div class=\"krn-spql\"><table><tr class=hdr><th>image</th></tr><tr class=odd><td class=val><a href=\"https://upload.wikimedia.org/wikipedia/commons/3/39/Arabidopsis.jpg\" target=\"_other\">https://upload.wikimedia.org/wikipedia/commons/3/39/Arabidopsis.jpg</a></td></tr><tr class=even><td class=val><a href=\"https://upload.wikimedia.org/wikipedia/commons/thumb/6/60/Arabidopsis_thaliana_inflorescencias.jpg/800px-Arabidopsis_thaliana_inflorescencias.jpg\" target=\"_other\">https://upload.wikimedia.org/wikipedia/commons/thumb/6/60/Arabidopsis_thaliana_inflorescencias.jpg/800px-Arabidopsis_thaliana_inflorescencias.jpg</a></td></tr></table><div class=\"tinfo\">Total: 2, Shown: 2</div></div>"
      ]
     },
     "metadata": {},
     "output_type": "display_data"
    }
   ],
   "source": [
    "%endpoint http://sparql.uniprot.org/sparql\n",
    "%format JSON\n",
    "\n",
    "PREFIX up: <http://purl.uniprot.org/core/>\n",
    "PREFIX foaf: <http://xmlns.com/foaf/0.1/>\n",
    "\n",
    "SELECT distinct ?image\n",
    "\n",
    "WHERE {\n",
    "    ?arabidopsisThaliana a up:Taxon ;\n",
    "                           up:scientificName \"Arabidopsis thaliana\" ;\n",
    "                           foaf:depiction ?image\n",
    "}"
   ]
  },
  {
   "cell_type": "markdown",
   "metadata": {},
   "source": [
    "## Question 4: What is the description of the enzyme activity of UniProt Protein Q9SZZ8"
   ]
  },
  {
   "cell_type": "code",
   "execution_count": 5,
   "metadata": {},
   "outputs": [
    {
     "data": {
      "text/html": [
       "<div class=\"krn-spql\"><div class=\"magic\">Endpoint set to: http://sparql.uniprot.org/sparql</div><div class=\"magic\">Return format: JSON</div></div>"
      ],
      "text/plain": [
       "Endpoint set to: http://sparql.uniprot.org/sparql\n",
       "Return format: JSON\n"
      ]
     },
     "metadata": {},
     "output_type": "display_data"
    },
    {
     "data": {
      "text/html": [
       "<div class=\"krn-spql\"><table><tr class=hdr><th>description</th></tr><tr class=odd><td class=val>Beta-carotene + 4 reduced ferredoxin [iron-sulfur] cluster + 2 H(+) + 2 O(2) = zeaxanthin + 4 oxidized ferredoxin [iron-sulfur] cluster + 2 H(2)O.</td></tr></table><div class=\"tinfo\">Total: 1, Shown: 1</div></div>"
      ]
     },
     "metadata": {},
     "output_type": "display_data"
    }
   ],
   "source": [
    "%endpoint http://sparql.uniprot.org/sparql\n",
    "%format JSON\n",
    "\n",
    "PREFIX up: <http://purl.uniprot.org/core/>\n",
    "PREFIX uniprotkb: <http://purl.uniprot.org/uniprot/>\n",
    "\n",
    "SELECT distinct ?description\n",
    "\n",
    "WHERE {\n",
    "    uniprotkb:Q9SZZ8 a up:Protein ;\n",
    "                       up:enzyme ?enzyme .\n",
    "    ?enzyme up:activity ?activity .\n",
    "    ?activity rdfs:label ?description\n",
    "}"
   ]
  },
  {
   "cell_type": "markdown",
   "metadata": {},
   "source": [
    "## Question 5: Retrieve the proteins ids, and date of submission, for proteins that have been added to UniProt this year   (HINT Google for “SPARQL FILTER by date”)"
   ]
  },
  {
   "cell_type": "code",
   "execution_count": 1,
   "metadata": {},
   "outputs": [
    {
     "data": {
      "text/html": [
       "<div class=\"krn-spql\"><div class=\"magic\">Endpoint set to: http://sparql.uniprot.org/sparql</div><div class=\"magic\">Return format: JSON</div></div>"
      ],
      "text/plain": [
       "Endpoint set to: http://sparql.uniprot.org/sparql\n",
       "Return format: JSON\n"
      ]
     },
     "metadata": {},
     "output_type": "display_data"
    },
    {
     "data": {
      "text/html": [
       "<div class=\"krn-spql\"><table><tr class=hdr><th>id</th>\n",
       "<th>date</th></tr><tr class=odd><td class=val>A0A1H7ADE3_PAEPO</td>\n",
       "<td class=val>2021-06-02</td></tr><tr class=even><td class=val>A0A1V1AIL4_ACIBA</td>\n",
       "<td class=val>2021-06-02</td></tr><tr class=odd><td class=val>A0A2Z0L603_ACIBA</td>\n",
       "<td class=val>2021-06-02</td></tr><tr class=even><td class=val>A0A4J5GG53_STREE</td>\n",
       "<td class=val>2021-04-07</td></tr><tr class=odd><td class=val>A0A6G8SU52_AERHY</td>\n",
       "<td class=val>2021-02-10</td></tr><tr class=even><td class=val>A0A6G8SU69_AERHY</td>\n",
       "<td class=val>2021-02-10</td></tr><tr class=odd><td class=val>A0A7C9JLR7_9BACT</td>\n",
       "<td class=val>2021-02-10</td></tr><tr class=even><td class=val>A0A7C9JMZ7_9BACT</td>\n",
       "<td class=val>2021-02-10</td></tr><tr class=odd><td class=val>A0A7C9KUQ4_9RHIZ</td>\n",
       "<td class=val>2021-02-10</td></tr><tr class=even><td class=val>A0A7D4HP61_NEIMU</td>\n",
       "<td class=val>2021-02-10</td></tr><tr class=odd><td class=val>A0A7D6A5N9_SERMA</td>\n",
       "<td class=val>2021-06-02</td></tr><tr class=even><td class=val>A0A7D6FMY9_9ENTR</td>\n",
       "<td class=val>2021-02-10</td></tr><tr class=odd><td class=val>A0A7D6VKU9_CITFR</td>\n",
       "<td class=val>2021-02-10</td></tr><tr class=even><td class=val>A0A7D6VKZ9_CITFR</td>\n",
       "<td class=val>2021-02-10</td></tr><tr class=odd><td class=val>A0A7D7EJU1_CITFR</td>\n",
       "<td class=val>2021-02-10</td></tr><tr class=even><td class=val>A0A7D7HYH9_ECOLX</td>\n",
       "<td class=val>2021-02-10</td></tr><tr class=odd><td class=val>A0A7G5HK20_9PSED</td>\n",
       "<td class=val>2021-02-10</td></tr><tr class=even><td class=val>A0A7G6B4J7_9BURK</td>\n",
       "<td class=val>2021-02-10</td></tr><tr class=odd><td class=val>A0A7G6T9F2_RHILI</td>\n",
       "<td class=val>2021-02-10</td></tr><tr class=even><td class=val>A0A7G7EDL3_KLEVA</td>\n",
       "<td class=val>2021-02-10</td></tr></table><div class=\"tinfo\">Total: 21, Shown: 20</div></div>"
      ]
     },
     "metadata": {},
     "output_type": "display_data"
    }
   ],
   "source": [
    "%endpoint http://sparql.uniprot.org/sparql\n",
    "%format JSON\n",
    "\n",
    "PREFIX up: <http://purl.uniprot.org/core/>\n",
    "PREFIX xsd: <http://www.w3.org/2001/XMLSchema#>\n",
    "\n",
    "SELECT distinct ?id ?date\n",
    "\n",
    "WHERE {\n",
    "    ?protein a up:Protein ;\n",
    "               up:mnemonic ?id ;\n",
    "               up:created ?date .\n",
    "    FILTER (?date > \"2021-01-01\"^^xsd:date)\n",
    "    \n",
    "} limit 21 # 21 proteins submitted in 2021 since trying to get all proteins takes a huge amount of time."
   ]
  },
  {
   "cell_type": "markdown",
   "metadata": {},
   "source": [
    "## Question 6: How many species are in the UniProt taxonomy?"
   ]
  },
  {
   "cell_type": "code",
   "execution_count": 2,
   "metadata": {},
   "outputs": [
    {
     "data": {
      "text/html": [
       "<div class=\"krn-spql\"><div class=\"magic\">Endpoint set to: http://sparql.uniprot.org/sparql</div><div class=\"magic\">Return format: JSON</div></div>"
      ],
      "text/plain": [
       "Endpoint set to: http://sparql.uniprot.org/sparql\n",
       "Return format: JSON\n"
      ]
     },
     "metadata": {},
     "output_type": "display_data"
    },
    {
     "data": {
      "text/html": [
       "<div class=\"krn-spql\"><table><tr class=hdr><th>numberSpecies</th></tr><tr class=odd><td class=val>2029846</td></tr></table><div class=\"tinfo\">Total: 1, Shown: 1</div></div>"
      ]
     },
     "metadata": {},
     "output_type": "display_data"
    }
   ],
   "source": [
    "%endpoint http://sparql.uniprot.org/sparql\n",
    "%format JSON\n",
    "\n",
    "PREFIX up: <http://purl.uniprot.org/core/>\n",
    "\n",
    "SELECT (count(distinct ?species) as ?numberSpecies)\n",
    "\n",
    "WHERE {\n",
    "    ?species a up:Taxon ;\n",
    "               up:rank up:Species .\n",
    "}"
   ]
  },
  {
   "cell_type": "markdown",
   "metadata": {},
   "source": [
    "## Question 7: How many species have at least one protein record? (this might take a long time to execute, so do this one last!)"
   ]
  },
  {
   "cell_type": "code",
   "execution_count": 2,
   "metadata": {},
   "outputs": [
    {
     "data": {
      "text/html": [
       "<div class=\"krn-spql\"><div class=\"magic\">Endpoint set to: http://sparql.uniprot.org/sparql</div><div class=\"magic\">Return format: JSON</div></div>"
      ],
      "text/plain": [
       "Endpoint set to: http://sparql.uniprot.org/sparql\n",
       "Return format: JSON\n"
      ]
     },
     "metadata": {},
     "output_type": "display_data"
    },
    {
     "data": {
      "text/html": [
       "<div class=\"krn-spql\"><table><tr class=hdr><th>numberSpecies</th></tr><tr class=odd><td class=val>1057158</td></tr></table><div class=\"tinfo\">Total: 1, Shown: 1</div></div>"
      ]
     },
     "metadata": {},
     "output_type": "display_data"
    }
   ],
   "source": [
    "%endpoint http://sparql.uniprot.org/sparql\n",
    "%format JSON\n",
    "\n",
    "PREFIX up: <http://purl.uniprot.org/core/>\n",
    "\n",
    "SELECT (count(distinct ?species) as ?numberSpecies)\n",
    "\n",
    "WHERE {\n",
    "    ?protein a up:Protein ;\n",
    "               up:organism ?species .\n",
    "    ?species a up:Taxon ;\n",
    "               up:rank up:Species .\n",
    "}"
   ]
  },
  {
   "cell_type": "markdown",
   "metadata": {},
   "source": [
    "## Question 8: find the AGI codes and gene names for all Arabidopsis thaliana  proteins that have a protein function annotation description that mentions “pattern formation”"
   ]
  },
  {
   "cell_type": "markdown",
   "metadata": {},
   "source": [
    "Regex in sparql: https://www.w3.org/TR/rdf-sparql-query/#funcex-regex"
   ]
  },
  {
   "cell_type": "code",
   "execution_count": 3,
   "metadata": {},
   "outputs": [
    {
     "data": {
      "text/html": [
       "<div class=\"krn-spql\"><div class=\"magic\">Endpoint set to: http://sparql.uniprot.org/sparql</div><div class=\"magic\">Return format: JSON</div></div>"
      ],
      "text/plain": [
       "Endpoint set to: http://sparql.uniprot.org/sparql\n",
       "Return format: JSON\n"
      ]
     },
     "metadata": {},
     "output_type": "display_data"
    },
    {
     "data": {
      "text/html": [
       "<div class=\"krn-spql\"><table><tr class=hdr><th>AGI</th>\n",
       "<th>geneName</th></tr><tr class=odd><td class=val>At3g54220</td>\n",
       "<td class=val>SCR</td></tr><tr class=even><td class=val>At4g21750</td>\n",
       "<td class=val>ATML1</td></tr><tr class=odd><td class=val>At1g13980</td>\n",
       "<td class=val>GN</td></tr><tr class=even><td class=val>At5g40260</td>\n",
       "<td class=val>SWEET8</td></tr><tr class=odd><td class=val>At1g69670</td>\n",
       "<td class=val>CUL3B</td></tr><tr class=even><td class=val>At1g63700</td>\n",
       "<td class=val>YDA</td></tr><tr class=odd><td class=val>At2g46710</td>\n",
       "<td class=val>ROPGAP3</td></tr><tr class=even><td class=val>At1g26830</td>\n",
       "<td class=val>CUL3A</td></tr><tr class=odd><td class=val>At3g09090</td>\n",
       "<td class=val>DEX1</td></tr><tr class=even><td class=val>At4g37650</td>\n",
       "<td class=val>SHR</td></tr><tr class=odd><td class=val>At5g55250</td>\n",
       "<td class=val>IAMT1</td></tr><tr class=even><td class=val>At3g02130</td>\n",
       "<td class=val>RPK2</td></tr><tr class=odd><td class=val>At2g42580</td>\n",
       "<td class=val>TTL3</td></tr><tr class=even><td class=val>At1g69270</td>\n",
       "<td class=val>RPK1</td></tr><tr class=odd><td class=val>At5g02010</td>\n",
       "<td class=val>ROPGEF7</td></tr><tr class=even><td class=val>At1g66470</td>\n",
       "<td class=val>RHD6</td></tr><tr class=odd><td class=val>At5g37800</td>\n",
       "<td class=val>RSL1</td></tr></table><div class=\"tinfo\">Total: 17, Shown: 17</div></div>"
      ]
     },
     "metadata": {},
     "output_type": "display_data"
    }
   ],
   "source": [
    "%endpoint http://sparql.uniprot.org/sparql\n",
    "%format JSON\n",
    "\n",
    "PREFIX up: <http://purl.uniprot.org/core/>\n",
    "PREFIX skos: <http://www.w3.org/2004/02/skos/core#>\n",
    "\n",
    "SELECT distinct ?AGI ?geneName\n",
    "\n",
    "WHERE {\n",
    "    ?protein a up:Protein ;\n",
    "               up:annotation ?annotation ;\n",
    "               up:encodedBy ?gene ;\n",
    "               up:organism ?taxon .\n",
    "    ?taxon up:scientificName \"Arabidopsis thaliana\" .\n",
    "    ?annotation a up:Function_Annotation ;\n",
    "                  rdfs:comment ?functionAnnotation .\n",
    "    FILTER regex(?functionAnnotation, \"pattern formation\", \"i\")\n",
    "    ?gene up:locusName ?AGI ;\n",
    "          skos:prefLabel ?geneName # from uniprot sparql tutorial query nº8\n",
    "} "
   ]
  },
  {
   "cell_type": "markdown",
   "metadata": {},
   "source": [
    "## Question 9: what is the MetaNetX Reaction identifier (starts with “mnxr”) for the UniProt Protein uniprotkb:Q18A79\n",
    "\n",
    "Source: https://www.metanetx.org/cgi-bin/mnxget/mnxref/MetaNetX_RDF_schema.pdf\n"
   ]
  },
  {
   "cell_type": "code",
   "execution_count": 12,
   "metadata": {},
   "outputs": [
    {
     "data": {
      "text/html": [
       "<div class=\"krn-spql\"><div class=\"magic\">Endpoint set to: https://rdf.metanetx.org/sparql</div><div class=\"magic\">Return format: JSON</div></div>"
      ],
      "text/plain": [
       "Endpoint set to: https://rdf.metanetx.org/sparql\n",
       "Return format: JSON\n"
      ]
     },
     "metadata": {},
     "output_type": "display_data"
    },
    {
     "data": {
      "text/html": [
       "<div class=\"krn-spql\"><table><tr class=hdr><th>ReactionIdentifiers</th></tr><tr class=odd><td class=val>mnxr165934</td></tr><tr class=even><td class=val>mnxr145046c3</td></tr></table><div class=\"tinfo\">Total: 2, Shown: 2</div></div>"
      ]
     },
     "metadata": {},
     "output_type": "display_data"
    }
   ],
   "source": [
    "%endpoint https://rdf.metanetx.org/sparql\n",
    "%format JSON\n",
    "\n",
    "PREFIX mnx: <https://rdf.metanetx.org/schema/>\n",
    "PREFIX uniprotkb: <http://purl.uniprot.org/uniprot/>\n",
    "\n",
    "SELECT distinct ?ReactionIdentifiers\n",
    "\n",
    "where {\n",
    "    ?reac a mnx:REAC ;\n",
    "            rdfs:label ?ReactionIdentifiers .\n",
    "    ?gpr a mnx:GPR ;\n",
    "           mnx:cata ?cata ;\n",
    "           mnx:reac ?reac .\n",
    "    ?cata a mnx:CATA ;\n",
    "            mnx:pept ?Protein .\n",
    "    ?Protein a mnx:PEPT ;\n",
    "               mnx:peptXref uniprotkb:Q18A79 .\n",
    "} \n"
   ]
  },
  {
   "cell_type": "markdown",
   "metadata": {},
   "source": [
    "## Question 10: What is the official Gene ID (UniProt calls this a “mnemonic”) and the MetaNetX Reaction identifier (mnxr…..) for the protein that has “Starch synthase” catalytic activity in Clostridium difficile (taxon 272563).\n",
    "\n",
    "In order to do a federated query, we need to use SERVICE.\n"
   ]
  },
  {
   "cell_type": "code",
   "execution_count": 1,
   "metadata": {},
   "outputs": [
    {
     "data": {
      "text/html": [
       "<div class=\"krn-spql\"><div class=\"magic\">Endpoint set to: http://sparql.uniprot.org/sparql</div><div class=\"magic\">Return format: JSON</div></div>"
      ],
      "text/plain": [
       "Endpoint set to: http://sparql.uniprot.org/sparql\n",
       "Return format: JSON\n"
      ]
     },
     "metadata": {},
     "output_type": "display_data"
    },
    {
     "data": {
      "text/html": [
       "<div class=\"krn-spql\"><table><tr class=hdr><th>geneId</th>\n",
       "<th>ReactionIdentifiers</th></tr><tr class=odd><td class=val>GLGA_CLOD6</td>\n",
       "<td class=val>mnxr165934</td></tr><tr class=even><td class=val>GLGA_CLOD6</td>\n",
       "<td class=val>mnxr145046c3</td></tr></table><div class=\"tinfo\">Total: 2, Shown: 2</div></div>"
      ]
     },
     "metadata": {},
     "output_type": "display_data"
    }
   ],
   "source": [
    "%endpoint http://sparql.uniprot.org/sparql\n",
    "%format JSON\n",
    "\n",
    "PREFIX taxon: <http://purl.uniprot.org/taxonomy/>\n",
    "PREFIX up: <http://purl.uniprot.org/core/>\n",
    "PREFIX mnx: <https://rdf.metanetx.org/schema/>\n",
    "SELECT distinct ?geneId ?ReactionIdentifiers\n",
    "WHERE\n",
    "{\n",
    "    ?Protein a up:Protein ;\n",
    "      up:organism taxon:272563 ;\n",
    "      up:enzyme ?enzyme ;\n",
    "      up:mnemonic ?geneId .\n",
    "  ?enzyme up:activity ?activity ;\n",
    "          rdfs:comment ?functionAnnotation .\n",
    "  FILTER regex(?functionAnnotation, \"Starch synthase\", \"i\")\n",
    "  \n",
    "  SERVICE <https://rdf.metanetx.org/sparql> {\n",
    "    ?reac a mnx:REAC ;\n",
    "            rdfs:label ?ReactionIdentifiers .\n",
    "    ?gpr a mnx:GPR ;\n",
    "           mnx:cata ?cata ;\n",
    "           mnx:reac ?reac .\n",
    "    ?cata a mnx:CATA ;\n",
    "            mnx:pept ?pept .\n",
    "    ?pept a mnx:PEPT ;\n",
    "               mnx:peptXref ?Protein.\n",
    "  }\n",
    "}"
   ]
  }
 ],
 "metadata": {
  "kernelspec": {
   "display_name": "SPARQL",
   "language": "sparql",
   "name": "sparql"
  },
  "language_info": {
   "codemirror_mode": {
    "name": "sparql"
   },
   "mimetype": "application/sparql-query",
   "name": "sparql",
   "pygments_lexer": "sparql-nb"
  }
 },
 "nbformat": 4,
 "nbformat_minor": 2
}
